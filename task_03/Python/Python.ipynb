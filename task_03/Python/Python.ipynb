{
  "nbformat": 4,
  "nbformat_minor": 0,
  "metadata": {
    "colab": {
      "provenance": []
    },
    "kernelspec": {
      "name": "python3",
      "display_name": "Python 3"
    },
    "language_info": {
      "name": "python"
    }
  },
  "cells": [
    {
      "cell_type": "code",
      "source": [
        "n = int(input(\"Enter a number (n): \"))\n",
        "list = []\n",
        "for j in range(2, n+1):\n",
        "    flag = True\n",
        "    for i in range(2, int(j**0.5) + 1):\n",
        "        if j % i == 0:\n",
        "            flag = False\n",
        "            break\n",
        "    if flag:\n",
        "        list.append(j)\n",
        "print(f\"The prime numbers up to {n} are:\")\n",
        "print(list)"
      ],
      "metadata": {
        "colab": {
          "base_uri": "https://localhost:8080/"
        },
        "id": "OIf9-_1ZhrU8",
        "outputId": "7e00f26a-e90d-44ad-df40-36101cebadfe"
      },
      "execution_count": null,
      "outputs": [
        {
          "output_type": "stream",
          "name": "stdout",
          "text": [
            "Enter a number (n): 16\n",
            "The prime numbers up to 16 are:\n",
            "[2, 3, 5, 7, 11, 13]\n"
          ]
        }
      ]
    }
  ]
}